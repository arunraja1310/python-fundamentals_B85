{
 "cells": [
  {
   "cell_type": "code",
   "execution_count": null,
   "id": "ec908b55",
   "metadata": {},
   "outputs": [],
   "source": [
    "continuation with the list datatype:"
   ]
  },
  {
   "cell_type": "code",
   "execution_count": null,
   "id": "8ac7e143",
   "metadata": {},
   "outputs": [],
   "source": [
    "organising the list datatype:\n"
   ]
  },
  {
   "cell_type": "code",
   "execution_count": 6,
   "id": "b141788c",
   "metadata": {},
   "outputs": [],
   "source": [
    "bike=['royal enfield','suzuki','hero','honda','yamaha','tvs','komaki','hero electric']"
   ]
  },
  {
   "cell_type": "code",
   "execution_count": 3,
   "id": "25500839",
   "metadata": {},
   "outputs": [
    {
     "name": "stdout",
     "output_type": "stream",
     "text": [
      "['royal enfield', 'suzuki', 'hero', 'honda', 'yamaha', 'tvs', 'komaki', 'hero electric']\n"
     ]
    }
   ],
   "source": [
    "print(bike)"
   ]
  },
  {
   "cell_type": "code",
   "execution_count": null,
   "id": "1fcebd01",
   "metadata": {},
   "outputs": [],
   "source": [
    "Approachs:\n",
    "    1.Temporary approach =====>will be able to get the original defined list order\n",
    "    2.Permanent approach ====> changes will be applied permanently --- sort\n",
    "    "
   ]
  },
  {
   "cell_type": "code",
   "execution_count": 12,
   "id": "4bcba30b",
   "metadata": {},
   "outputs": [
    {
     "name": "stdout",
     "output_type": "stream",
     "text": [
      "['hero', 'hero electric', 'honda', 'komaki', 'royal enfield', 'suzuki', 'tvs', 'yamaha']\n"
     ]
    }
   ],
   "source": [
    "print(sorted(bike))"
   ]
  },
  {
   "cell_type": "code",
   "execution_count": 18,
   "id": "613cfad7",
   "metadata": {},
   "outputs": [],
   "source": [
    "bike.sort()"
   ]
  },
  {
   "cell_type": "code",
   "execution_count": 19,
   "id": "ba4266e2",
   "metadata": {},
   "outputs": [],
   "source": [
    "bike.reverse()"
   ]
  },
  {
   "cell_type": "code",
   "execution_count": 15,
   "id": "dd611fc9",
   "metadata": {},
   "outputs": [
    {
     "data": {
      "text/plain": [
       "8"
      ]
     },
     "execution_count": 15,
     "metadata": {},
     "output_type": "execute_result"
    }
   ],
   "source": [
    "len(bike)"
   ]
  },
  {
   "cell_type": "code",
   "execution_count": null,
   "id": "e000d32c",
   "metadata": {},
   "outputs": [],
   "source": [
    "Introduction to Slicing:\n",
    "  [start_value:stop_value:stop_count]  "
   ]
  },
  {
   "cell_type": "code",
   "execution_count": 24,
   "id": "bfd4d791",
   "metadata": {},
   "outputs": [
    {
     "name": "stdout",
     "output_type": "stream",
     "text": [
      "['yamaha']\n"
     ]
    }
   ],
   "source": [
    "print(bike[0:1])"
   ]
  },
  {
   "cell_type": "code",
   "execution_count": 23,
   "id": "1b886696",
   "metadata": {},
   "outputs": [
    {
     "name": "stdout",
     "output_type": "stream",
     "text": [
      "['yamaha', 'tvs', 'suzuki', 'royal enfield', 'komaki']\n"
     ]
    }
   ],
   "source": [
    "print(bike[0:5])"
   ]
  },
  {
   "cell_type": "code",
   "execution_count": 25,
   "id": "c525e377",
   "metadata": {},
   "outputs": [
    {
     "name": "stdout",
     "output_type": "stream",
     "text": [
      "['yamaha', 'tvs', 'suzuki']\n"
     ]
    }
   ],
   "source": [
    "print(bike[0:3])"
   ]
  },
  {
   "cell_type": "code",
   "execution_count": 27,
   "id": "892f34d5",
   "metadata": {},
   "outputs": [
    {
     "name": "stdout",
     "output_type": "stream",
     "text": [
      "['suzuki', 'royal enfield']\n"
     ]
    }
   ],
   "source": [
    "print(bike[2:4])"
   ]
  },
  {
   "cell_type": "code",
   "execution_count": 28,
   "id": "b2517530",
   "metadata": {},
   "outputs": [
    {
     "name": "stdout",
     "output_type": "stream",
     "text": [
      "['hero']\n"
     ]
    }
   ],
   "source": [
    "print(bike[7:8])"
   ]
  },
  {
   "cell_type": "code",
   "execution_count": 29,
   "id": "512072fb",
   "metadata": {},
   "outputs": [
    {
     "name": "stdout",
     "output_type": "stream",
     "text": [
      "['yamaha', 'suzuki']\n"
     ]
    }
   ],
   "source": [
    "print(bike[0:4:2])"
   ]
  },
  {
   "cell_type": "code",
   "execution_count": null,
   "id": "3cedb287",
   "metadata": {},
   "outputs": [],
   "source": []
  }
 ],
 "metadata": {
  "kernelspec": {
   "display_name": "Python 3 (ipykernel)",
   "language": "python",
   "name": "python3"
  },
  "language_info": {
   "codemirror_mode": {
    "name": "ipython",
    "version": 3
   },
   "file_extension": ".py",
   "mimetype": "text/x-python",
   "name": "python",
   "nbconvert_exporter": "python",
   "pygments_lexer": "ipython3",
   "version": "3.11.5"
  }
 },
 "nbformat": 4,
 "nbformat_minor": 5
}
