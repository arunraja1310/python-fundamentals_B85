{
 "cells": [
  {
   "cell_type": "code",
   "execution_count": 1,
   "id": "9964d98b",
   "metadata": {},
   "outputs": [],
   "source": [
    "#an immutable list is called as an tuple\n"
   ]
  },
  {
   "cell_type": "code",
   "execution_count": 2,
   "id": "d4c7858f",
   "metadata": {},
   "outputs": [],
   "source": [
    "#its classified as an immutable types\n"
   ]
  },
  {
   "cell_type": "code",
   "execution_count": 3,
   "id": "6a69b506",
   "metadata": {},
   "outputs": [],
   "source": [
    "students=('a','b','c','d','e','f','g','h')"
   ]
  },
  {
   "cell_type": "code",
   "execution_count": 4,
   "id": "f9138915",
   "metadata": {},
   "outputs": [
    {
     "name": "stdout",
     "output_type": "stream",
     "text": [
      "('a', 'b', 'c', 'd', 'e', 'f', 'g', 'h')\n"
     ]
    }
   ],
   "source": [
    "print(students)\n"
   ]
  },
  {
   "cell_type": "code",
   "execution_count": 5,
   "id": "2dcac0d3",
   "metadata": {},
   "outputs": [
    {
     "data": {
      "text/plain": [
       "tuple"
      ]
     },
     "execution_count": 5,
     "metadata": {},
     "output_type": "execute_result"
    }
   ],
   "source": [
    "type(students)"
   ]
  },
  {
   "cell_type": "code",
   "execution_count": 7,
   "id": "82b3cb72",
   "metadata": {},
   "outputs": [
    {
     "name": "stdout",
     "output_type": "stream",
     "text": [
      "a\n"
     ]
    }
   ],
   "source": [
    "print(students[0])"
   ]
  },
  {
   "cell_type": "code",
   "execution_count": 8,
   "id": "76bec180",
   "metadata": {},
   "outputs": [
    {
     "ename": "TypeError",
     "evalue": "'tuple' object does not support item assignment",
     "output_type": "error",
     "traceback": [
      "\u001b[1;31m---------------------------------------------------------------------------\u001b[0m",
      "\u001b[1;31mTypeError\u001b[0m                                 Traceback (most recent call last)",
      "Cell \u001b[1;32mIn[8], line 1\u001b[0m\n\u001b[1;32m----> 1\u001b[0m students[\u001b[38;5;241m0\u001b[39m]\u001b[38;5;241m=\u001b[39m\u001b[38;5;124m'\u001b[39m\u001b[38;5;124mnew value\u001b[39m\u001b[38;5;124m'\u001b[39m\n",
      "\u001b[1;31mTypeError\u001b[0m: 'tuple' object does not support item assignment"
     ]
    }
   ],
   "source": [
    "\n",
    "students[0]='new value'"
   ]
  },
  {
   "cell_type": "code",
   "execution_count": 11,
   "id": "cb419ef9",
   "metadata": {},
   "outputs": [
    {
     "name": "stdout",
     "output_type": "stream",
     "text": [
      "c\n"
     ]
    }
   ],
   "source": [
    "print(students[2])"
   ]
  },
  {
   "cell_type": "code",
   "execution_count": 12,
   "id": "6d2e4bc9",
   "metadata": {},
   "outputs": [],
   "source": [
    "#Dictionary - is a combination of key and value pairs"
   ]
  },
  {
   "cell_type": "code",
   "execution_count": 13,
   "id": "6c2a7007",
   "metadata": {},
   "outputs": [],
   "source": [
    "#its classfied as mutable datatype edit/add\n",
    "definded using curly braces"
   ]
  },
  {
   "cell_type": "code",
   "execution_count": 14,
   "id": "520b32b7",
   "metadata": {},
   "outputs": [],
   "source": [
    "dict={'1':'orange','2':'apple'}"
   ]
  },
  {
   "cell_type": "code",
   "execution_count": 15,
   "id": "960d6ed9",
   "metadata": {},
   "outputs": [
    {
     "data": {
      "text/plain": [
       "dict"
      ]
     },
     "execution_count": 15,
     "metadata": {},
     "output_type": "execute_result"
    }
   ],
   "source": [
    "type(dict)"
   ]
  },
  {
   "cell_type": "code",
   "execution_count": 16,
   "id": "df382df7",
   "metadata": {},
   "outputs": [
    {
     "name": "stdout",
     "output_type": "stream",
     "text": [
      "{'1': 'orange', '2': 'apple'}\n"
     ]
    }
   ],
   "source": [
    "print(dict)"
   ]
  },
  {
   "cell_type": "code",
   "execution_count": 17,
   "id": "43d35270",
   "metadata": {},
   "outputs": [],
   "source": [
    "username={'fname':'fsddsf','lname':'adsds','dob':'01-01-2023','passwors':'12345','location':'sffsdfs'}"
   ]
  },
  {
   "cell_type": "code",
   "execution_count": 18,
   "id": "faea4be7",
   "metadata": {},
   "outputs": [
    {
     "name": "stdout",
     "output_type": "stream",
     "text": [
      "fsddsf\n"
     ]
    }
   ],
   "source": [
    "print(username['fname'])"
   ]
  },
  {
   "cell_type": "code",
   "execution_count": 19,
   "id": "e0a9bc02",
   "metadata": {},
   "outputs": [
    {
     "ename": "KeyError",
     "evalue": "'code'",
     "output_type": "error",
     "traceback": [
      "\u001b[1;31m---------------------------------------------------------------------------\u001b[0m",
      "\u001b[1;31mKeyError\u001b[0m                                  Traceback (most recent call last)",
      "Cell \u001b[1;32mIn[19], line 1\u001b[0m\n\u001b[1;32m----> 1\u001b[0m \u001b[38;5;28mprint\u001b[39m(username[\u001b[38;5;124m'\u001b[39m\u001b[38;5;124mcode\u001b[39m\u001b[38;5;124m'\u001b[39m])\n",
      "\u001b[1;31mKeyError\u001b[0m: 'code'"
     ]
    }
   ],
   "source": [
    "print(username['code'])"
   ]
  },
  {
   "cell_type": "code",
   "execution_count": null,
   "id": "2ba249ac",
   "metadata": {},
   "outputs": [],
   "source": []
  }
 ],
 "metadata": {
  "kernelspec": {
   "display_name": "Python 3 (ipykernel)",
   "language": "python",
   "name": "python3"
  },
  "language_info": {
   "codemirror_mode": {
    "name": "ipython",
    "version": 3
   },
   "file_extension": ".py",
   "mimetype": "text/x-python",
   "name": "python",
   "nbconvert_exporter": "python",
   "pygments_lexer": "ipython3",
   "version": "3.11.5"
  }
 },
 "nbformat": 4,
 "nbformat_minor": 5
}
