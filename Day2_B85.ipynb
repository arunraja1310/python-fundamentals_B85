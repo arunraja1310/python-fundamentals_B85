{
 "cells": [
  {
   "cell_type": "code",
   "execution_count": 1,
   "id": "40d12ede",
   "metadata": {},
   "outputs": [],
   "source": [
    "x=2\n",
    "y=3\n"
   ]
  },
  {
   "cell_type": "code",
   "execution_count": 3,
   "id": "48324f92",
   "metadata": {},
   "outputs": [
    {
     "name": "stdout",
     "output_type": "stream",
     "text": [
      "5\n"
     ]
    }
   ],
   "source": [
    "z=x+y\n",
    "print(z)"
   ]
  },
  {
   "cell_type": "code",
   "execution_count": null,
   "id": "be1b0f3c",
   "metadata": {},
   "outputs": [],
   "source": [
    "Ruleno:1 No name sapces while declaraing the variable name"
   ]
  },
  {
   "cell_type": "code",
   "execution_count": 5,
   "id": "3f105cad",
   "metadata": {
    "scrolled": true
   },
   "outputs": [
    {
     "ename": "SyntaxError",
     "evalue": "invalid syntax (2857873887.py, line 1)",
     "output_type": "error",
     "traceback": [
      "\u001b[1;36m  Cell \u001b[1;32mIn[5], line 1\u001b[1;36m\u001b[0m\n\u001b[1;33m    first name=\"arun\"\u001b[0m\n\u001b[1;37m          ^\u001b[0m\n\u001b[1;31mSyntaxError\u001b[0m\u001b[1;31m:\u001b[0m invalid syntax\n"
     ]
    }
   ],
   "source": [
    "first name=\"arun\"\n",
    "print(first name)"
   ]
  },
  {
   "cell_type": "code",
   "execution_count": 6,
   "id": "8a691ef2",
   "metadata": {},
   "outputs": [
    {
     "name": "stdout",
     "output_type": "stream",
     "text": [
      "arun\n"
     ]
    }
   ],
   "source": [
    "firstname=\"arun\"\n",
    "print(firstname)"
   ]
  },
  {
   "cell_type": "code",
   "execution_count": 7,
   "id": "bf426f04",
   "metadata": {},
   "outputs": [
    {
     "name": "stdout",
     "output_type": "stream",
     "text": [
      "arun\n"
     ]
    }
   ],
   "source": [
    "first_name=\"arun\"\n",
    "print(first_name)"
   ]
  },
  {
   "cell_type": "code",
   "execution_count": null,
   "id": "b19dab85",
   "metadata": {},
   "outputs": [],
   "source": [
    "Rule No:2 variable name should not start with number"
   ]
  },
  {
   "cell_type": "code",
   "execution_count": 8,
   "id": "8c62f4e0",
   "metadata": {},
   "outputs": [
    {
     "ename": "SyntaxError",
     "evalue": "invalid decimal literal (3359905755.py, line 1)",
     "output_type": "error",
     "traceback": [
      "\u001b[1;36m  Cell \u001b[1;32mIn[8], line 1\u001b[1;36m\u001b[0m\n\u001b[1;33m    1name=\"ragav\"\u001b[0m\n\u001b[1;37m    ^\u001b[0m\n\u001b[1;31mSyntaxError\u001b[0m\u001b[1;31m:\u001b[0m invalid decimal literal\n"
     ]
    }
   ],
   "source": [
    "1name=\"ragav\"\n",
    "print(1name)"
   ]
  },
  {
   "cell_type": "code",
   "execution_count": 9,
   "id": "a9744f53",
   "metadata": {},
   "outputs": [
    {
     "name": "stdout",
     "output_type": "stream",
     "text": [
      "ragav\n"
     ]
    }
   ],
   "source": [
    "name1=\"ragav\"\n",
    "print(name1)"
   ]
  },
  {
   "cell_type": "code",
   "execution_count": null,
   "id": "c3ae360b",
   "metadata": {},
   "outputs": [],
   "source": [
    "Rule No:3 variable should not contain any special characters"
   ]
  },
  {
   "cell_type": "code",
   "execution_count": 13,
   "id": "cbc5df38",
   "metadata": {},
   "outputs": [
    {
     "ename": "SyntaxError",
     "evalue": "invalid syntax (2766891556.py, line 2)",
     "output_type": "error",
     "traceback": [
      "\u001b[1;36m  Cell \u001b[1;32mIn[13], line 2\u001b[1;36m\u001b[0m\n\u001b[1;33m    print(name@)\u001b[0m\n\u001b[1;37m               ^\u001b[0m\n\u001b[1;31mSyntaxError\u001b[0m\u001b[1;31m:\u001b[0m invalid syntax\n"
     ]
    }
   ],
   "source": [
    "name@=\"ragav\"\n",
    "print(name@)"
   ]
  },
  {
   "cell_type": "code",
   "execution_count": 11,
   "id": "74f39ba9",
   "metadata": {},
   "outputs": [
    {
     "name": "stdout",
     "output_type": "stream",
     "text": [
      "ragav\n"
     ]
    }
   ],
   "source": [
    "namee=\"ragav\"\n",
    "print(namee)"
   ]
  },
  {
   "cell_type": "code",
   "execution_count": null,
   "id": "4df4fe75",
   "metadata": {},
   "outputs": [],
   "source": [
    "Introduction to Data type in Python"
   ]
  },
  {
   "cell_type": "code",
   "execution_count": null,
   "id": "e68a0a0d",
   "metadata": {},
   "outputs": [],
   "source": [
    "1.String ====> str\n",
    "\n",
    "2.Numbers ===>Intergers and Floats \n",
    "\n",
    "3.List ===========> list\n",
    "\n",
    "4.Tuples  =====> tuple\n",
    "\n",
    "5.Dictionaries ===========> dict"
   ]
  },
  {
   "cell_type": "code",
   "execution_count": null,
   "id": "9808a4d9",
   "metadata": {},
   "outputs": [],
   "source": [
    "Classification of Datatypes:\n",
    "    \n",
    "    Datatype are classified into two categeories\n",
    "    \n",
    "        1.Mutable Datatype which we can able to edit and alter ->flexible in nature  \n",
    "    \n",
    "        2.Immutable Datatype cannot be able to edit or alter -> fixed in nature\n",
    "    \n",
    "    "
   ]
  },
  {
   "cell_type": "code",
   "execution_count": null,
   "id": "203f52e9",
   "metadata": {},
   "outputs": [],
   "source": [
    "Introduction to String Datatypes:\n",
    "    "
   ]
  },
  {
   "cell_type": "code",
   "execution_count": null,
   "id": "842e05d0",
   "metadata": {},
   "outputs": [],
   "source": [
    "Definition: A string is series of characters declatred in quotes\n",
    "    \n",
    "Classification: classification is an immutable datatype\n",
    "\n",
    "        how to declare \n",
    "            1.single quote('')\n",
    "\n",
    "            2.double quote(\"\")\n",
    "            "
   ]
  },
  {
   "cell_type": "code",
   "execution_count": 17,
   "id": "b8fc55d0",
   "metadata": {},
   "outputs": [
    {
     "name": "stdout",
     "output_type": "stream",
     "text": [
      "sandeep\n"
     ]
    }
   ],
   "source": [
    "name='sandeep'\n",
    "print(name)\n"
   ]
  },
  {
   "cell_type": "code",
   "execution_count": 16,
   "id": "fc9d37dc",
   "metadata": {},
   "outputs": [
    {
     "name": "stdout",
     "output_type": "stream",
     "text": [
      "yasir\n"
     ]
    }
   ],
   "source": [
    "name2=\"yasir\"\n",
    "print(name2)"
   ]
  },
  {
   "cell_type": "code",
   "execution_count": null,
   "id": "07beac18",
   "metadata": {},
   "outputs": [],
   "source": [
    "Introduction to String Methods:\n",
    "\n",
    "    1.Type of\n",
    "    2.title"
   ]
  },
  {
   "cell_type": "code",
   "execution_count": 19,
   "id": "aee45176",
   "metadata": {},
   "outputs": [
    {
     "data": {
      "text/plain": [
       "str"
      ]
     },
     "execution_count": 19,
     "metadata": {},
     "output_type": "execute_result"
    }
   ],
   "source": [
    "type(name)"
   ]
  },
  {
   "cell_type": "code",
   "execution_count": 20,
   "id": "09288e73",
   "metadata": {},
   "outputs": [
    {
     "data": {
      "text/plain": [
       "str"
      ]
     },
     "execution_count": 20,
     "metadata": {},
     "output_type": "execute_result"
    }
   ],
   "source": [
    "type(name2)"
   ]
  },
  {
   "cell_type": "code",
   "execution_count": 24,
   "id": "4b20b82e",
   "metadata": {},
   "outputs": [
    {
     "name": "stdout",
     "output_type": "stream",
     "text": [
      "jef bose\n"
     ]
    }
   ],
   "source": [
    "name=\"jef bose\"\n",
    "print(name)"
   ]
  },
  {
   "cell_type": "code",
   "execution_count": 23,
   "id": "70d78adf",
   "metadata": {},
   "outputs": [
    {
     "name": "stdout",
     "output_type": "stream",
     "text": [
      "Jef Bose\n"
     ]
    }
   ],
   "source": [
    "print(name.title())"
   ]
  },
  {
   "cell_type": "code",
   "execution_count": null,
   "id": "7a6ebcc7",
   "metadata": {},
   "outputs": [],
   "source": []
  }
 ],
 "metadata": {
  "kernelspec": {
   "display_name": "Python 3 (ipykernel)",
   "language": "python",
   "name": "python3"
  },
  "language_info": {
   "codemirror_mode": {
    "name": "ipython",
    "version": 3
   },
   "file_extension": ".py",
   "mimetype": "text/x-python",
   "name": "python",
   "nbconvert_exporter": "python",
   "pygments_lexer": "ipython3",
   "version": "3.11.5"
  }
 },
 "nbformat": 4,
 "nbformat_minor": 5
}
