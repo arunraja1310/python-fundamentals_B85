{
 "cells": [
  {
   "cell_type": "code",
   "execution_count": 2,
   "id": "d472d1c2",
   "metadata": {},
   "outputs": [],
   "source": [
    "#Introduction to list datatype:"
   ]
  },
  {
   "cell_type": "code",
   "execution_count": null,
   "id": "6743fbda",
   "metadata": {},
   "outputs": [],
   "source": [
    "Definition: A list is a collection of items in a paticular order.\n",
    "Classfication:it is classified as a mutable datatype which can be edited / modified.\n",
    "    \n",
    "    "
   ]
  },
  {
   "cell_type": "code",
   "execution_count": 3,
   "id": "4952ea6a",
   "metadata": {},
   "outputs": [],
   "source": [
    "data=['apple','mango','watermelon','grapes']"
   ]
  },
  {
   "cell_type": "code",
   "execution_count": 4,
   "id": "860b3ab2",
   "metadata": {},
   "outputs": [
    {
     "name": "stdout",
     "output_type": "stream",
     "text": [
      "['apple', 'mango', 'watermelon', 'grapes']\n"
     ]
    }
   ],
   "source": [
    "print(data)"
   ]
  },
  {
   "cell_type": "code",
   "execution_count": 5,
   "id": "c292cd38",
   "metadata": {},
   "outputs": [],
   "source": [
    "#Concept of indexing =>[0,1,2,3,4,5,...................]"
   ]
  },
  {
   "cell_type": "code",
   "execution_count": 10,
   "id": "725a55f2",
   "metadata": {},
   "outputs": [
    {
     "name": "stdout",
     "output_type": "stream",
     "text": [
      "Mango\n"
     ]
    }
   ],
   "source": [
    "print(data[1].title())"
   ]
  },
  {
   "cell_type": "code",
   "execution_count": 9,
   "id": "057aba90",
   "metadata": {},
   "outputs": [
    {
     "name": "stdout",
     "output_type": "stream",
     "text": [
      "Grapes\n"
     ]
    }
   ],
   "source": [
    "print(data[3].title())"
   ]
  },
  {
   "cell_type": "code",
   "execution_count": 11,
   "id": "5da42a80",
   "metadata": {},
   "outputs": [],
   "source": [
    "# 1. how to add new element in a list:\n",
    "# 2.how to modify the element in the list:\n",
    "# 3.how to delete the elements in the list:"
   ]
  },
  {
   "cell_type": "code",
   "execution_count": 12,
   "id": "9ea03904",
   "metadata": {},
   "outputs": [],
   "source": [
    "data.append('dates')"
   ]
  },
  {
   "cell_type": "code",
   "execution_count": 13,
   "id": "2aa7a2f2",
   "metadata": {},
   "outputs": [
    {
     "name": "stdout",
     "output_type": "stream",
     "text": [
      "['apple', 'mango', 'watermelon', 'grapes', 'dates']\n"
     ]
    }
   ],
   "source": [
    "print(data)"
   ]
  },
  {
   "cell_type": "code",
   "execution_count": 17,
   "id": "8e96ef22",
   "metadata": {},
   "outputs": [],
   "source": [
    "data.append('Apple')"
   ]
  },
  {
   "cell_type": "code",
   "execution_count": 15,
   "id": "9c10eab1",
   "metadata": {},
   "outputs": [
    {
     "name": "stdout",
     "output_type": "stream",
     "text": [
      "['apple', 'mango', 'watermelon', 'grapes', 'dates']\n"
     ]
    }
   ],
   "source": [
    "print(data)"
   ]
  },
  {
   "cell_type": "code",
   "execution_count": 20,
   "id": "69366e0d",
   "metadata": {},
   "outputs": [],
   "source": [
    "data.insert(3,'orange')"
   ]
  },
  {
   "cell_type": "code",
   "execution_count": 21,
   "id": "7c0e0376",
   "metadata": {},
   "outputs": [
    {
     "name": "stdout",
     "output_type": "stream",
     "text": [
      "['apple', 'mango', 'watermelon', 'orange', 'orange', 'grapes', 'dates', 'Apple']\n"
     ]
    }
   ],
   "source": [
    "print(data)\n"
   ]
  },
  {
   "cell_type": "code",
   "execution_count": 24,
   "id": "e399f606",
   "metadata": {},
   "outputs": [],
   "source": [
    "data.remove('orange')"
   ]
  },
  {
   "cell_type": "code",
   "execution_count": 25,
   "id": "06c76170",
   "metadata": {},
   "outputs": [
    {
     "name": "stdout",
     "output_type": "stream",
     "text": [
      "['apple', 'mango', 'watermelon', 'orange', 'grapes', 'dates', 'Apple']\n"
     ]
    }
   ],
   "source": [
    "print(data)"
   ]
  },
  {
   "cell_type": "code",
   "execution_count": null,
   "id": "a60be9d3",
   "metadata": {},
   "outputs": [],
   "source": []
  }
 ],
 "metadata": {
  "kernelspec": {
   "display_name": "Python 3 (ipykernel)",
   "language": "python",
   "name": "python3"
  },
  "language_info": {
   "codemirror_mode": {
    "name": "ipython",
    "version": 3
   },
   "file_extension": ".py",
   "mimetype": "text/x-python",
   "name": "python",
   "nbconvert_exporter": "python",
   "pygments_lexer": "ipython3",
   "version": "3.11.5"
  }
 },
 "nbformat": 4,
 "nbformat_minor": 5
}
