{
 "cells": [
  {
   "cell_type": "code",
   "execution_count": 1,
   "id": "01a4df2f",
   "metadata": {},
   "outputs": [],
   "source": [
    "#Introductin to dictionaries"
   ]
  },
  {
   "cell_type": "code",
   "execution_count": null,
   "id": "e7390761",
   "metadata": {},
   "outputs": [],
   "source": [
    "Defnitiion : A dict is a combination of key value pairs\n",
    "    its classified as  a mutable datatype "
   ]
  },
  {
   "cell_type": "code",
   "execution_count": 2,
   "id": "593a5037",
   "metadata": {},
   "outputs": [
    {
     "name": "stdout",
     "output_type": "stream",
     "text": [
      "{'color': 'green', 'points': 5}\n"
     ]
    }
   ],
   "source": [
    "alien={'color':'green','points':5} #key:value\n",
    "print(alien)"
   ]
  },
  {
   "cell_type": "code",
   "execution_count": 3,
   "id": "06b318e4",
   "metadata": {},
   "outputs": [
    {
     "data": {
      "text/plain": [
       "dict"
      ]
     },
     "execution_count": 3,
     "metadata": {},
     "output_type": "execute_result"
    }
   ],
   "source": [
    "type(alien)"
   ]
  },
  {
   "cell_type": "code",
   "execution_count": 4,
   "id": "5bc10277",
   "metadata": {},
   "outputs": [],
   "source": [
    "alien['start_value']=0\n"
   ]
  },
  {
   "cell_type": "code",
   "execution_count": 5,
   "id": "67af6746",
   "metadata": {},
   "outputs": [
    {
     "name": "stdout",
     "output_type": "stream",
     "text": [
      "{'color': 'green', 'points': 5, 'start_value': 0}\n"
     ]
    }
   ],
   "source": [
    "print(alien)"
   ]
  },
  {
   "cell_type": "code",
   "execution_count": 6,
   "id": "938d93c0",
   "metadata": {},
   "outputs": [],
   "source": [
    "alien['color']='yellow'\n"
   ]
  },
  {
   "cell_type": "code",
   "execution_count": 7,
   "id": "96b79df4",
   "metadata": {},
   "outputs": [
    {
     "name": "stdout",
     "output_type": "stream",
     "text": [
      "{'color': 'yellow', 'points': 5, 'start_value': 0}\n"
     ]
    }
   ],
   "source": [
    "print(alien)"
   ]
  },
  {
   "cell_type": "code",
   "execution_count": 8,
   "id": "8b65beb5",
   "metadata": {},
   "outputs": [
    {
     "ename": "SyntaxError",
     "evalue": "cannot delete function call (1596049196.py, line 1)",
     "output_type": "error",
     "traceback": [
      "\u001b[1;36m  Cell \u001b[1;32mIn[8], line 1\u001b[1;36m\u001b[0m\n\u001b[1;33m    del alien(points)\u001b[0m\n\u001b[1;37m        ^\u001b[0m\n\u001b[1;31mSyntaxError\u001b[0m\u001b[1;31m:\u001b[0m cannot delete function call\n"
     ]
    }
   ],
   "source": [
    "del alien(points)"
   ]
  },
  {
   "cell_type": "code",
   "execution_count": 9,
   "id": "9772985d",
   "metadata": {},
   "outputs": [],
   "source": [
    "del alien['points']"
   ]
  },
  {
   "cell_type": "code",
   "execution_count": 10,
   "id": "4ede52c6",
   "metadata": {},
   "outputs": [
    {
     "name": "stdout",
     "output_type": "stream",
     "text": [
      "{'color': 'yellow', 'start_value': 0}\n"
     ]
    }
   ],
   "source": [
    "print(alien)\n"
   ]
  },
  {
   "cell_type": "code",
   "execution_count": 12,
   "id": "b34b88aa",
   "metadata": {},
   "outputs": [],
   "source": [
    "user_account={'uname':'laravel','fname':'mathu','lname':'jenny','passowrd':'12345'}"
   ]
  },
  {
   "cell_type": "code",
   "execution_count": 13,
   "id": "439799ed",
   "metadata": {},
   "outputs": [
    {
     "name": "stdout",
     "output_type": "stream",
     "text": [
      "{'uname': 'laravel', 'fname': 'mathu', 'lname': 'jenny', 'passowrd': '12345'}\n"
     ]
    }
   ],
   "source": [
    "print(user_account)"
   ]
  },
  {
   "cell_type": "code",
   "execution_count": 15,
   "id": "9243f4d9",
   "metadata": {},
   "outputs": [
    {
     "name": "stdout",
     "output_type": "stream",
     "text": [
      "uname\n",
      "fname\n",
      "lname\n",
      "passowrd\n"
     ]
    }
   ],
   "source": [
    "for data in user_account:\n",
    "    print(data)"
   ]
  },
  {
   "cell_type": "code",
   "execution_count": 17,
   "id": "6a60a0e1",
   "metadata": {},
   "outputs": [
    {
     "name": "stdout",
     "output_type": "stream",
     "text": [
      "('uname', 'laravel')\n",
      "('fname', 'mathu')\n",
      "('lname', 'jenny')\n",
      "('passowrd', '12345')\n"
     ]
    }
   ],
   "source": [
    "for data in user_account.items():\n",
    "    print(data)"
   ]
  },
  {
   "cell_type": "code",
   "execution_count": 18,
   "id": "196b5ddb",
   "metadata": {},
   "outputs": [
    {
     "name": "stdout",
     "output_type": "stream",
     "text": [
      "key:uname\n",
      "val:laravel\n",
      "\n",
      "key:fname\n",
      "val:mathu\n",
      "\n",
      "key:lname\n",
      "val:jenny\n",
      "\n",
      "key:passowrd\n",
      "val:12345\n",
      "\n"
     ]
    }
   ],
   "source": [
    "for a,b in user_account.items():\n",
    "    print(f\"key:{a}\")\n",
    "    print(f\"val:{b}\\n\")"
   ]
  },
  {
   "cell_type": "code",
   "execution_count": 19,
   "id": "9a16841f",
   "metadata": {},
   "outputs": [
    {
     "name": "stdout",
     "output_type": "stream",
     "text": [
      "uname\n",
      "laravel\n",
      "fname\n",
      "mathu\n",
      "lname\n",
      "jenny\n",
      "passowrd\n",
      "12345\n"
     ]
    }
   ],
   "source": [
    "for a,b in user_account.items():\n",
    "    print(a)\n",
    "    print(b)"
   ]
  },
  {
   "cell_type": "code",
   "execution_count": 20,
   "id": "2f851ce9",
   "metadata": {},
   "outputs": [
    {
     "name": "stdout",
     "output_type": "stream",
     "text": [
      "key:uname\n",
      "key:fname\n",
      "key:lname\n",
      "key:passowrd\n"
     ]
    }
   ],
   "source": [
    "for a,b in user_account.items():\n",
    "    print(f\"key:{a}\")\n",
    "    #print(f\"val:{b}\\n\")"
   ]
  },
  {
   "cell_type": "code",
   "execution_count": 21,
   "id": "ce3ae3f1",
   "metadata": {},
   "outputs": [
    {
     "name": "stdout",
     "output_type": "stream",
     "text": [
      "val:laravel\n",
      "\n",
      "val:mathu\n",
      "\n",
      "val:jenny\n",
      "\n",
      "val:12345\n",
      "\n"
     ]
    }
   ],
   "source": [
    "for a,b in user_account.items():\n",
    "    #print(f\"key:{a}\")\n",
    "    print(f\"val:{b}\\n\")"
   ]
  },
  {
   "cell_type": "code",
   "execution_count": null,
   "id": "c91fc24e",
   "metadata": {},
   "outputs": [],
   "source": []
  }
 ],
 "metadata": {
  "kernelspec": {
   "display_name": "Python 3 (ipykernel)",
   "language": "python",
   "name": "python3"
  },
  "language_info": {
   "codemirror_mode": {
    "name": "ipython",
    "version": 3
   },
   "file_extension": ".py",
   "mimetype": "text/x-python",
   "name": "python",
   "nbconvert_exporter": "python",
   "pygments_lexer": "ipython3",
   "version": "3.11.5"
  }
 },
 "nbformat": 4,
 "nbformat_minor": 5
}
