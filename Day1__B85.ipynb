{
 "cells": [
  {
   "cell_type": "code",
   "execution_count": 1,
   "id": "8e04697c",
   "metadata": {},
   "outputs": [
    {
     "name": "stdout",
     "output_type": "stream",
     "text": [
      "Welcome all to the python fundamentals program\n"
     ]
    }
   ],
   "source": [
    "print(\"Welcome all to the python fundamentals program\");"
   ]
  },
  {
   "cell_type": "code",
   "execution_count": null,
   "id": "25902415",
   "metadata": {},
   "outputs": [],
   "source": [
    "Shift + Enter to run the program using keyboard shortcuts"
   ]
  }
 ],
 "metadata": {
  "kernelspec": {
   "display_name": "Python 3 (ipykernel)",
   "language": "python",
   "name": "python3"
  },
  "language_info": {
   "codemirror_mode": {
    "name": "ipython",
    "version": 3
   },
   "file_extension": ".py",
   "mimetype": "text/x-python",
   "name": "python",
   "nbconvert_exporter": "python",
   "pygments_lexer": "ipython3",
   "version": "3.11.5"
  }
 },
 "nbformat": 4,
 "nbformat_minor": 5
}
