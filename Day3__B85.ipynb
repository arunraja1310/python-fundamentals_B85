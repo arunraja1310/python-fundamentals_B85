{
 "cells": [
  {
   "cell_type": "code",
   "execution_count": null,
   "id": "8d15f3c6",
   "metadata": {},
   "outputs": [],
   "source": [
    "Introduction to String Methods:\n",
    "    1.Type\n",
    "    2.Title\n",
    "    3.upper\n",
    "                \n",
    "        "
   ]
  },
  {
   "cell_type": "code",
   "execution_count": 1,
   "id": "83103d99",
   "metadata": {},
   "outputs": [
    {
     "name": "stdout",
     "output_type": "stream",
     "text": [
      "keep it safe\n"
     ]
    }
   ],
   "source": [
    "fullname=\"keep it safe\"\n",
    "print(fullname)"
   ]
  },
  {
   "cell_type": "code",
   "execution_count": 2,
   "id": "69f8413c",
   "metadata": {},
   "outputs": [
    {
     "name": "stdout",
     "output_type": "stream",
     "text": [
      "Keep It Safe\n"
     ]
    }
   ],
   "source": [
    "print(fullname.title())"
   ]
  },
  {
   "cell_type": "code",
   "execution_count": null,
   "id": "5a902081",
   "metadata": {},
   "outputs": [],
   "source": [
    "#Convert entire name to capital letters"
   ]
  },
  {
   "cell_type": "code",
   "execution_count": 3,
   "id": "152ba442",
   "metadata": {},
   "outputs": [
    {
     "name": "stdout",
     "output_type": "stream",
     "text": [
      "KEEP IT SAFE\n"
     ]
    }
   ],
   "source": [
    "print(fullname.upper())"
   ]
  },
  {
   "cell_type": "code",
   "execution_count": 4,
   "id": "9b12e60f",
   "metadata": {},
   "outputs": [
    {
     "name": "stdout",
     "output_type": "stream",
     "text": [
      "keep it safe\n"
     ]
    }
   ],
   "source": [
    "print(fullname.lower())"
   ]
  },
  {
   "cell_type": "code",
   "execution_count": null,
   "id": "e6436296",
   "metadata": {},
   "outputs": [],
   "source": [
    "# General Syntax of f strings:"
   ]
  },
  {
   "cell_type": "code",
   "execution_count": null,
   "id": "e9f2d1ab",
   "metadata": {},
   "outputs": [],
   "source": [
    "f\"custom message{palce holder1}{placeholder2}...{placeholder n}\" "
   ]
  },
  {
   "cell_type": "code",
   "execution_count": 17,
   "id": "78f915e4",
   "metadata": {},
   "outputs": [
    {
     "name": "stdout",
     "output_type": "stream",
     "text": [
      "teena genilia\n"
     ]
    }
   ],
   "source": [
    "fname='teena'\n",
    "\n",
    "lastname='genilia'\n",
    "fullname=f\"{fname} {lastname}\"\n",
    "print(fullname)"
   ]
  },
  {
   "cell_type": "code",
   "execution_count": 16,
   "id": "f9d5e70b",
   "metadata": {
    "scrolled": true
   },
   "outputs": [
    {
     "ename": "NameError",
     "evalue": "name 'fname' is not defined",
     "output_type": "error",
     "traceback": [
      "\u001b[1;31m---------------------------------------------------------------------------\u001b[0m",
      "\u001b[1;31mNameError\u001b[0m                                 Traceback (most recent call last)",
      "Cell \u001b[1;32mIn[16], line 1\u001b[0m\n\u001b[1;32m----> 1\u001b[0m fullname\u001b[38;5;241m=\u001b[39m\u001b[38;5;124mf\u001b[39m\u001b[38;5;124m\"\u001b[39m\u001b[38;5;132;01m{\u001b[39;00mfname\u001b[38;5;132;01m}\u001b[39;00m\u001b[38;5;124m \u001b[39m\u001b[38;5;132;01m{\u001b[39;00mlastname\u001b[38;5;132;01m}\u001b[39;00m\u001b[38;5;124m\"\u001b[39m\n\u001b[0;32m      2\u001b[0m \u001b[38;5;28mprint\u001b[39m(fullname)\n",
      "\u001b[1;31mNameError\u001b[0m: name 'fname' is not defined"
     ]
    }
   ],
   "source": []
  },
  {
   "cell_type": "code",
   "execution_count": 9,
   "id": "3bd83e9e",
   "metadata": {},
   "outputs": [
    {
     "name": "stdout",
     "output_type": "stream",
     "text": [
      "keep it safe\n"
     ]
    }
   ],
   "source": []
  },
  {
   "cell_type": "code",
   "execution_count": 19,
   "id": "0024dad6",
   "metadata": {},
   "outputs": [
    {
     "name": "stdout",
     "output_type": "stream",
     "text": [
      "keep it safe on guys,Teena Genilia\n"
     ]
    }
   ],
   "source": [
    "message=f\"keep it safe on guys,{fullname.title()}\"\n",
    "print(message)"
   ]
  },
  {
   "cell_type": "code",
   "execution_count": null,
   "id": "895dc998",
   "metadata": {},
   "outputs": [],
   "source": [
    "adding whitespace to strings:"
   ]
  },
  {
   "cell_type": "code",
   "execution_count": 20,
   "id": "a4fe4fbd",
   "metadata": {},
   "outputs": [
    {
     "name": "stdout",
     "output_type": "stream",
     "text": [
      "fav_languages:pythonc++rubyphp\n"
     ]
    }
   ],
   "source": [
    "print(\"fav_languages:pythonc++rubyphp\")"
   ]
  },
  {
   "cell_type": "code",
   "execution_count": 21,
   "id": "8eaf1818",
   "metadata": {},
   "outputs": [
    {
     "name": "stdout",
     "output_type": "stream",
     "text": [
      "fav_languages:\n",
      "python\n",
      "c++\n",
      "ruby\n",
      "php\n"
     ]
    }
   ],
   "source": [
    "print(\"fav_languages:\\npython\\nc++\\nruby\\nphp\") #\\n ==> Newline delimiter"
   ]
  },
  {
   "cell_type": "code",
   "execution_count": 22,
   "id": "82d3b0ed",
   "metadata": {},
   "outputs": [
    {
     "name": "stdout",
     "output_type": "stream",
     "text": [
      "fav_languages:\tpython\tc++\truby\tphp\n"
     ]
    }
   ],
   "source": [
    "print(\"fav_languages:\\tpython\\tc++\\truby\\tphp\") #\\t ==> tab delimiter"
   ]
  },
  {
   "cell_type": "code",
   "execution_count": null,
   "id": "4b25040d",
   "metadata": {},
   "outputs": [],
   "source": []
  },
  {
   "cell_type": "code",
   "execution_count": 23,
   "id": "032d4962",
   "metadata": {},
   "outputs": [],
   "source": [
    "#Removing White Space from Strings:"
   ]
  },
  {
   "cell_type": "code",
   "execution_count": 24,
   "id": "25318140",
   "metadata": {},
   "outputs": [
    {
     "name": "stdout",
     "output_type": "stream",
     "text": [
      "python\n",
      "  programming\n",
      "Learning   \n"
     ]
    }
   ],
   "source": [
    "name=\"python\"\n",
    "name2=\"  programming\"\n",
    "name3=\"Learning   \"\n",
    "print(name)\n",
    "print(name2)\n",
    "print(name3)"
   ]
  },
  {
   "cell_type": "code",
   "execution_count": 25,
   "id": "add90e3c",
   "metadata": {},
   "outputs": [
    {
     "data": {
      "text/plain": [
       "'Learning'"
      ]
     },
     "execution_count": 25,
     "metadata": {},
     "output_type": "execute_result"
    }
   ],
   "source": [
    "name3.rstrip() #rightstrip"
   ]
  },
  {
   "cell_type": "code",
   "execution_count": 26,
   "id": "faf197aa",
   "metadata": {},
   "outputs": [
    {
     "data": {
      "text/plain": [
       "'programming'"
      ]
     },
     "execution_count": 26,
     "metadata": {},
     "output_type": "execute_result"
    }
   ],
   "source": [
    "name2.lstrip()  #left strip"
   ]
  },
  {
   "cell_type": "code",
   "execution_count": null,
   "id": "dbfc8181",
   "metadata": {},
   "outputs": [],
   "source": []
  }
 ],
 "metadata": {
  "kernelspec": {
   "display_name": "Python 3 (ipykernel)",
   "language": "python",
   "name": "python3"
  },
  "language_info": {
   "codemirror_mode": {
    "name": "ipython",
    "version": 3
   },
   "file_extension": ".py",
   "mimetype": "text/x-python",
   "name": "python",
   "nbconvert_exporter": "python",
   "pygments_lexer": "ipython3",
   "version": "3.11.5"
  }
 },
 "nbformat": 4,
 "nbformat_minor": 5
}
